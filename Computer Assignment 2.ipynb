{
  "nbformat": 4,
  "nbformat_minor": 0,
  "metadata": {
    "colab": {
      "provenance": [],
      "gpuType": "T4",
      "include_colab_link": true
    },
    "kernelspec": {
      "name": "python3",
      "display_name": "Python 3"
    },
    "accelerator": "GPU"
  },
  "cells": [
    {
      "cell_type": "markdown",
      "metadata": {
        "id": "view-in-github",
        "colab_type": "text"
      },
      "source": [
        "<a href=\"https://colab.research.google.com/github/JPedroSilveira/visual-computing-deep-learning/blob/main/Computer%20Assignment%202.ipynb\" target=\"_parent\"><img src=\"https://colab.research.google.com/assets/colab-badge.svg\" alt=\"Open In Colab\"/></a>"
      ]
    },
    {
      "cell_type": "markdown",
      "source": [
        "# **Introduction to Deep Learning for Visual Computing (INF01050 and CMP620)**\n",
        "# **Assignment 2**\n",
        "# Name(s): <font color='red'>Add your name(s) here</font>"
      ],
      "metadata": {
        "id": "gOBJgPwm-7Zd"
      }
    },
    {
      "cell_type": "code",
      "source": [
        "#\n",
        "#  Common header for all students: download and unzip the dataset\n",
        "#\n",
        "! wget https://www.inf.ufrgs.br/~crjung/fdl/cats_dogs_bbs.zip\n",
        "! unzip cats_dogs_bbs\n",
        "! ls -l"
      ],
      "metadata": {
        "id": "-KxuOOs6WgyD"
      },
      "execution_count": null,
      "outputs": []
    },
    {
      "cell_type": "markdown",
      "source": [
        "From this point on, you should proceed with your solution and discussion\n",
        "\n",
        "**Exercise 1**"
      ],
      "metadata": {
        "id": "yzs8rULS6GoU"
      }
    }
  ]
}